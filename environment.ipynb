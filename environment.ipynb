{
 "cells": [
  {
   "cell_type": "code",
   "execution_count": 2,
   "metadata": {
    "collapsed": true
   },
   "outputs": [],
   "source": [
    "TIME = 30\n",
    "CHAN = 16\n",
    "USER = 20\n"
   ]
  },
  {
   "cell_type": "code",
   "execution_count": 5,
   "metadata": {
    "collapsed": true
   },
   "outputs": [],
   "source": [
    "PROB =0.6\n",
    "RWRD =1\n",
    "GAMA =0.2"
   ]
  },
  {
   "cell_type": "code",
   "execution_count": 6,
   "metadata": {
    "collapsed": true
   },
   "outputs": [],
   "source": [
    "import random\n"
   ]
  },
  {
   "cell_type": "code",
   "execution_count": 23,
   "metadata": {
    "collapsed": true
   },
   "outputs": [],
   "source": [
    "import numpy as np"
   ]
  },
  {
   "cell_type": "code",
   "execution_count": 49,
   "metadata": {
    "collapsed": true
   },
   "outputs": [],
   "source": [
    "user_ac = np.zeros((USER),np.int64)"
   ]
  },
  {
   "cell_type": "code",
   "execution_count": 50,
   "metadata": {
    "collapsed": true
   },
   "outputs": [],
   "source": [
    "user_ob = np.zeros((USER),np.float64)"
   ]
  },
  {
   "cell_type": "code",
   "execution_count": 66,
   "metadata": {
    "collapsed": false
   },
   "outputs": [],
   "source": [
    "action_list = np.zeros((CHAN+1),dtype=np.int64)"
   ]
  },
  {
   "cell_type": "code",
   "execution_count": 74,
   "metadata": {
    "collapsed": true
   },
   "outputs": [],
   "source": [
    "history_ac = np.zeros((TIME,USER), np.int64)"
   ]
  },
  {
   "cell_type": "code",
   "execution_count": 75,
   "metadata": {
    "collapsed": true
   },
   "outputs": [],
   "source": [
    "history_ob = np.zeros((TIME,USER), np.int64)"
   ]
  },
  {
   "cell_type": "code",
   "execution_count": 76,
   "metadata": {
    "collapsed": true
   },
   "outputs": [],
   "source": [
    "for t in range (TIME):\n",
    "    for n in range(USER):\n",
    "        act = random.randint(0,CHAN)\n",
    "        ran = random.uniform(0,1)\n",
    "        if ran <= PROB:\n",
    "            user_ac[n] = act\n",
    "            action_list[act]+=1\n",
    "       \n",
    "    for k in range(CHAN+1):\n",
    "        if action_list[k] > 1:\n",
    "            action_list[k] = 0;\n",
    "            \n",
    "    for n in range(USER):\n",
    "        user_ob[n] = action_list[user_ac[n]]\n",
    "        history_ac[t][n] = user_ac[n]\n",
    "        history_ob[t][n] = user_ob[n]\n",
    "        \n",
    "    action_list = np.zeros((CHAN+1),np.int64)"
   ]
  },
  {
   "cell_type": "code",
   "execution_count": 77,
   "metadata": {
    "collapsed": false
   },
   "outputs": [
    {
     "data": {
      "text/plain": [
       "(array([[ 1, 15,  8,  8,  9,  8, 14,  0,  9,  5,  1, 14, 16, 15, 14,  9,  3,\n",
       "         12,  8,  5],\n",
       "        [ 8, 11,  8,  8,  8,  8, 14,  0,  7,  5,  1, 14, 16,  6, 14,  9,  3,\n",
       "         12,  8, 16],\n",
       "        [ 1,  8, 15,  0,  6,  8, 14,  0,  7,  5,  1,  0, 16,  8, 12,  5, 16,\n",
       "          2, 12, 16],\n",
       "        [ 1,  8, 10,  1,  3, 16, 13,  0,  7, 12,  1,  4,  6,  8, 13,  3, 16,\n",
       "          4, 12,  7],\n",
       "        [12, 14,  1,  1,  3, 16, 13,  2,  7, 12, 12,  4, 15,  1,  4,  3, 16,\n",
       "          0,  7,  6],\n",
       "        [12, 14, 12,  1, 16, 16, 13, 16,  7, 13, 12,  4,  1,  1,  4,  3, 10,\n",
       "         10,  7,  5],\n",
       "        [11,  1,  6,  1, 16, 13, 16, 16,  7, 13, 10,  6,  6,  1,  5,  3,  7,\n",
       "          8, 14,  8],\n",
       "        [ 6,  1, 10,  1,  9, 13,  2,  5,  7, 10, 14, 16, 11,  2,  5,  3,  6,\n",
       "          9, 14,  8],\n",
       "        [ 6,  9, 10,  1,  9, 13,  1,  8,  1, 14, 14, 16, 11,  8,  5, 10,  6,\n",
       "         11,  2,  8],\n",
       "        [ 7,  9, 10,  9,  9,  9,  1, 13, 15, 11,  1, 12,  7,  8,  8, 10,  6,\n",
       "         15,  7, 10],\n",
       "        [ 7, 16, 10,  9,  9,  6,  1,  0, 15, 11,  0,  9,  9,  8,  8, 14, 11,\n",
       "         15,  1,  9],\n",
       "        [ 7, 16,  7,  7,  9,  6,  1,  0, 14, 16, 13,  9,  9,  1,  9, 14, 11,\n",
       "         15, 15,  8],\n",
       "        [ 7,  4,  1, 10,  9,  4,  4,  8,  9,  0,  7,  8,  6, 16,  3, 14,  6,\n",
       "         15,  9,  8],\n",
       "        [11,  5,  6, 10,  5,  4, 10,  8, 11, 15,  7, 15,  6, 16,  3, 14, 12,\n",
       "         15,  5, 11],\n",
       "        [11,  0,  6, 12,  5,  1,  2,  8, 11,  6,  2,  1, 12,  6,  2,  4, 12,\n",
       "         15, 14, 11],\n",
       "        [11, 11,  2, 12,  0, 13,  2,  8, 11,  0,  2, 12,  1,  6,  2,  0, 12,\n",
       "         15, 13, 11],\n",
       "        [ 1,  5,  7,  0,  4, 15,  4, 15,  8, 10,  6,  4,  1,  6,  2,  9, 13,\n",
       "         15, 13, 11],\n",
       "        [11, 12,  6,  0, 13, 15,  2, 10,  8, 12,  3, 15, 12,  6,  5,  5, 13,\n",
       "         13, 13, 11],\n",
       "        [11, 13,  6,  8,  7,  6,  2, 10,  8, 12,  1, 10, 12,  6, 13,  6, 13,\n",
       "         13, 13, 11],\n",
       "        [11, 13,  6,  8, 13, 11,  2,  4, 14, 12,  1, 10, 13, 14, 13, 14, 13,\n",
       "         12, 13,  4],\n",
       "        [10, 13, 14,  5,  7, 11,  2, 16, 14,  6, 13, 14, 14, 14,  4, 14, 15,\n",
       "          3,  9, 11],\n",
       "        [10,  4, 14,  5, 16, 11,  2,  2, 14, 11, 13,  5,  5,  1,  4, 14, 14,\n",
       "          3,  9, 12],\n",
       "        [10, 13,  8,  4, 10,  7,  9,  9, 14,  6,  4,  5,  6, 14,  4, 14, 14,\n",
       "         13, 14,  8],\n",
       "        [14, 13,  7,  5,  5,  7,  3,  9, 14,  9,  4,  5,  6, 14, 14, 14, 14,\n",
       "          0,  1,  8],\n",
       "        [14, 13,  3,  5,  7,  7, 10,  7, 14,  9,  8,  3,  6, 11,  0,  4,  6,\n",
       "          7, 10, 15],\n",
       "        [14,  2,  3,  5,  7,  7,  4, 13, 11,  9,  8, 14, 16, 11,  0,  4,  6,\n",
       "          3, 10,  3],\n",
       "        [14,  2,  3,  5, 12,  7,  7, 13, 11,  2,  8,  1, 16, 10,  0, 10,  6,\n",
       "          2, 10,  0],\n",
       "        [14,  9, 11,  5,  0,  6, 16, 13, 11, 10,  4,  9, 16, 10, 16, 13, 10,\n",
       "          0,  9,  9],\n",
       "        [ 0,  9,  7,  4,  2,  6, 16,  6, 11,  5,  2,  9, 16,  8, 12, 14, 10,\n",
       "         14, 15, 15],\n",
       "        [ 6, 12,  5,  2,  9,  6, 16, 16, 10,  5,  6,  9, 16, 14, 16, 14, 10,\n",
       "         14, 16, 16]], dtype=int64),\n",
       " array([[1, 1, 0, 0, 1, 0, 0, 0, 1, 0, 1, 0, 0, 1, 0, 1, 1, 1, 0, 0],\n",
       "        [0, 1, 0, 0, 0, 0, 0, 0, 1, 0, 0, 0, 1, 1, 0, 0, 0, 0, 0, 1],\n",
       "        [1, 0, 1, 0, 1, 0, 0, 0, 0, 1, 1, 0, 1, 0, 0, 1, 1, 1, 0, 1],\n",
       "        [1, 0, 1, 1, 0, 1, 0, 0, 1, 1, 1, 0, 1, 0, 0, 0, 1, 0, 1, 1],\n",
       "        [0, 1, 0, 0, 1, 1, 0, 1, 1, 0, 0, 1, 1, 0, 1, 1, 1, 1, 1, 1],\n",
       "        [1, 0, 1, 1, 0, 0, 1, 0, 0, 1, 1, 1, 1, 1, 1, 1, 0, 0, 0, 1],\n",
       "        [1, 1, 0, 1, 1, 1, 1, 1, 1, 1, 1, 0, 0, 1, 1, 0, 1, 0, 1, 0],\n",
       "        [0, 1, 0, 1, 0, 0, 0, 1, 1, 0, 1, 1, 1, 0, 1, 0, 0, 0, 1, 1],\n",
       "        [0, 1, 0, 0, 1, 0, 0, 0, 0, 1, 1, 0, 1, 0, 0, 0, 0, 1, 1, 0],\n",
       "        [0, 0, 1, 0, 0, 0, 1, 1, 0, 1, 1, 1, 0, 1, 1, 1, 0, 0, 0, 1],\n",
       "        [0, 1, 0, 0, 0, 1, 1, 0, 0, 1, 0, 0, 0, 0, 0, 1, 1, 0, 1, 0],\n",
       "        [0, 1, 0, 0, 1, 0, 0, 0, 1, 1, 1, 1, 1, 0, 1, 1, 0, 0, 0, 1],\n",
       "        [1, 0, 1, 1, 0, 0, 0, 0, 0, 1, 1, 0, 0, 1, 1, 0, 0, 0, 0, 0],\n",
       "        [0, 0, 1, 0, 0, 0, 0, 0, 0, 0, 0, 0, 1, 0, 0, 0, 1, 0, 0, 0],\n",
       "        [0, 1, 0, 0, 0, 0, 0, 0, 0, 0, 0, 0, 0, 0, 0, 1, 0, 0, 1, 0],\n",
       "        [1, 1, 0, 1, 0, 0, 0, 0, 1, 0, 0, 1, 1, 0, 0, 0, 1, 0, 0, 1],\n",
       "        [1, 1, 1, 1, 0, 0, 0, 0, 1, 1, 1, 0, 1, 1, 1, 1, 1, 0, 1, 0],\n",
       "        [1, 0, 1, 0, 0, 1, 1, 1, 0, 0, 1, 1, 0, 1, 0, 0, 0, 0, 0, 1],\n",
       "        [1, 0, 0, 1, 1, 0, 0, 1, 1, 0, 1, 1, 0, 0, 0, 0, 0, 0, 0, 1],\n",
       "        [1, 0, 0, 0, 0, 1, 0, 0, 0, 1, 0, 0, 0, 0, 0, 0, 0, 1, 0, 0],\n",
       "        [1, 1, 0, 1, 1, 1, 0, 1, 0, 1, 1, 0, 0, 0, 1, 0, 1, 1, 1, 1],\n",
       "        [0, 1, 1, 0, 1, 1, 1, 1, 1, 1, 0, 0, 0, 1, 1, 1, 1, 0, 0, 1],\n",
       "        [1, 0, 0, 0, 1, 1, 0, 0, 0, 0, 0, 0, 0, 0, 0, 0, 0, 0, 0, 0],\n",
       "        [0, 0, 0, 0, 0, 0, 1, 1, 0, 1, 0, 0, 0, 0, 0, 0, 0, 1, 1, 0],\n",
       "        [0, 0, 0, 0, 0, 0, 0, 0, 0, 0, 1, 0, 1, 1, 1, 1, 1, 0, 0, 1],\n",
       "        [1, 1, 0, 0, 0, 0, 1, 1, 1, 0, 0, 1, 1, 1, 0, 1, 0, 0, 0, 0],\n",
       "        [0, 0, 0, 0, 1, 1, 1, 0, 0, 0, 0, 1, 0, 0, 0, 0, 1, 0, 0, 0],\n",
       "        [0, 0, 1, 0, 0, 1, 0, 1, 1, 0, 1, 0, 0, 0, 0, 1, 0, 0, 0, 0],\n",
       "        [1, 0, 1, 1, 0, 0, 1, 0, 0, 1, 0, 0, 1, 1, 1, 0, 0, 0, 0, 0],\n",
       "        [0, 1, 0, 1, 1, 0, 0, 0, 1, 0, 0, 1, 0, 1, 0, 1, 1, 1, 0, 0]], dtype=int64))"
      ]
     },
     "execution_count": 77,
     "metadata": {},
     "output_type": "execute_result"
    }
   ],
   "source": [
    "history_ac,history_ob"
   ]
  },
  {
   "cell_type": "code",
   "execution_count": 78,
   "metadata": {
    "collapsed": true
   },
   "outputs": [],
   "source": [
    "rewards = np.zeros((USER),np.float64)"
   ]
  },
  {
   "cell_type": "code",
   "execution_count": 79,
   "metadata": {
    "collapsed": false
   },
   "outputs": [
    {
     "data": {
      "text/plain": [
       "array([ 0.,  0.,  0.,  0.,  0.,  0.,  0.,  0.,  0.,  0.,  0.,  0.,  0.,\n",
       "        0.,  0.,  0.,  0.,  0.,  0.,  0.])"
      ]
     },
     "execution_count": 79,
     "metadata": {},
     "output_type": "execute_result"
    }
   ],
   "source": [
    "rewards\n"
   ]
  },
  {
   "cell_type": "code",
   "execution_count": 82,
   "metadata": {
    "collapsed": false
   },
   "outputs": [],
   "source": [
    "for n in range(USER):\n",
    "    for t in range (TIME): \n",
    "        r += pow(GAMA,t)*history_ob[t][n]\n",
    "    rewards[n] = r \n",
    "    r = 0\n",
    "        \n",
    "    "
   ]
  },
  {
   "cell_type": "code",
   "execution_count": 81,
   "metadata": {
    "collapsed": true
   },
   "outputs": [],
   "source": [
    "r = 0.0"
   ]
  },
  {
   "cell_type": "code",
   "execution_count": 83,
   "metadata": {
    "collapsed": false
   },
   "outputs": [
    {
     "data": {
      "text/plain": [
       "array([  1.04838400e+00,   1.20167948e+00,   4.83205169e-02,\n",
       "         8.39680414e-03,   1.04166658e+00,   9.66410240e-03,\n",
       "         3.84614401e-04,   1.67731200e-03,   1.20967682e+00,\n",
       "         4.83871990e-02,   1.04839990e+00,   1.93333251e-03,\n",
       "         2.49935381e-01,   1.20038452e+00,   1.99733658e-03,\n",
       "         1.04192064e+00,   1.04966410e+00,   1.04160256e+00,\n",
       "         9.67946257e-03,   2.49933333e-01])"
      ]
     },
     "execution_count": 83,
     "metadata": {},
     "output_type": "execute_result"
    }
   ],
   "source": [
    "rewards"
   ]
  },
  {
   "cell_type": "code",
   "execution_count": null,
   "metadata": {
    "collapsed": true
   },
   "outputs": [],
   "source": []
  }
 ],
 "metadata": {
  "kernelspec": {
   "display_name": "Python [conda root]",
   "language": "python",
   "name": "conda-root-py"
  },
  "language_info": {
   "codemirror_mode": {
    "name": "ipython",
    "version": 3
   },
   "file_extension": ".py",
   "mimetype": "text/x-python",
   "name": "python",
   "nbconvert_exporter": "python",
   "pygments_lexer": "ipython3",
   "version": "3.5.2"
  }
 },
 "nbformat": 4,
 "nbformat_minor": 1
}
